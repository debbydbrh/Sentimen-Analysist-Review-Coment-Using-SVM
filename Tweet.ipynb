{
 "cells": [
  {
   "cell_type": "code",
   "execution_count": 1,
   "metadata": {},
   "outputs": [],
   "source": [
    "#twitter API\n",
    "import tweepy\n",
    "import datetime\n",
    "import xlsxwriter\n",
    "import sys"
   ]
  },
  {
   "cell_type": "code",
   "execution_count": 2,
   "metadata": {},
   "outputs": [],
   "source": [
    "#source from https://apps.twitter.com/\n",
    "consumerKey = \"nsNk9wYUdKQapcqamMc9D2gVb\"\n",
    "consumerSecret = \"gcZbhqu40aBLNuzsa6wHEvrDYjDBUca0cpBF4OPp04kZlc1o2F\"\n",
    "accessToken = \"621881521-AvSfiOMTnpml6AYSzVtTueSGgChnDOPqK9v9aAIu\"\n",
    "accessTokenSecret = \"WzSeoxb00HBmEUJ2dy0k779U7Ded7kRhzEngZ3BdrtSdN\""
   ]
  },
  {
   "cell_type": "code",
   "execution_count": 3,
   "metadata": {},
   "outputs": [],
   "source": [
    "#authentication of the twitter user\n",
    "auth = tweepy.OAuthHandler(consumerKey, consumerSecret)\n",
    "auth.set_access_token(accessToken, accessTokenSecret)\n",
    "\n",
    "api = tweepy.API(auth)"
   ]
  },
  {
   "cell_type": "code",
   "execution_count": 4,
   "metadata": {},
   "outputs": [],
   "source": [
    "username = sys.argv[0]\n",
    "startDate = datetime.datetime(2020, 1, 12, 0, 0, 0)\n",
    "endDate = datetime.datetime(2020, 2, 12, 0, 0, 0)"
   ]
  },
  {
   "cell_type": "code",
   "execution_count": 5,
   "metadata": {},
   "outputs": [],
   "source": [
    "tweets = []\n",
    "#keyword to tweets\n",
    "query = \"Minecraft\"\n",
    "#tweet api search tweets related to query\n",
    "tmpTweets = api.search(q=query)"
   ]
  },
  {
   "cell_type": "code",
   "execution_count": 7,
   "metadata": {},
   "outputs": [
    {
     "name": "stdout",
     "output_type": "stream",
     "text": [
      "Last Tweet @ 2020-12-18 06:42:16  - fetching some more\n",
      "Last Tweet @ 2020-12-18 06:45:39  - fetching some more\n",
      "Last Tweet @ 2020-12-18 06:45:39  - fetching some more\n",
      "Last Tweet @ 2020-12-18 06:45:39  - fetching some more\n",
      "Last Tweet @ 2020-12-18 06:45:39  - fetching some more\n",
      "Last Tweet @ 2020-12-18 06:45:39  - fetching some more\n",
      "Last Tweet @ 2020-12-18 06:45:39  - fetching some more\n",
      "Last Tweet @ 2020-12-18 06:45:39  - fetching some more\n",
      "Last Tweet @ 2020-12-18 06:45:39  - fetching some more\n",
      "Last Tweet @ 2020-12-18 06:45:39  - fetching some more\n",
      "Last Tweet @ 2020-12-18 06:45:39  - fetching some more\n",
      "Last Tweet @ 2020-12-18 06:45:39  - fetching some more\n",
      "Last Tweet @ 2020-12-18 06:45:39  - fetching some more\n",
      "Last Tweet @ 2020-12-18 06:45:39  - fetching some more\n",
      "Last Tweet @ 2020-12-18 06:45:39  - fetching some more\n",
      "Last Tweet @ 2020-12-18 06:45:39  - fetching some more\n",
      "Last Tweet @ 2020-12-18 06:45:39  - fetching some more\n",
      "Last Tweet @ 2020-12-18 06:45:39  - fetching some more\n",
      "Last Tweet @ 2020-12-18 06:45:39  - fetching some more\n",
      "Last Tweet @ 2020-12-18 06:45:39  - fetching some more\n",
      "Last Tweet @ 2020-12-18 06:45:39  - fetching some more\n",
      "Last Tweet @ 2020-12-18 06:45:39  - fetching some more\n",
      "Last Tweet @ 2020-12-18 06:45:39  - fetching some more\n",
      "Last Tweet @ 2020-12-18 06:45:52  - fetching some more\n",
      "Last Tweet @ 2020-12-18 06:45:52  - fetching some more\n",
      "Last Tweet @ 2020-12-18 06:45:52  - fetching some more\n",
      "Last Tweet @ 2020-12-18 06:45:52  - fetching some more\n",
      "Last Tweet @ 2020-12-18 06:45:52  - fetching some more\n",
      "Last Tweet @ 2020-12-18 06:45:52  - fetching some more\n",
      "Last Tweet @ 2020-12-18 06:45:52  - fetching some more\n",
      "Last Tweet @ 2020-12-18 06:45:52  - fetching some more\n",
      "Last Tweet @ 2020-12-18 06:45:52  - fetching some more\n",
      "Last Tweet @ 2020-12-18 06:45:52  - fetching some more\n",
      "Last Tweet @ 2020-12-18 06:45:52  - fetching some more\n",
      "Last Tweet @ 2020-12-18 06:45:52  - fetching some more\n",
      "Last Tweet @ 2020-12-18 06:45:52  - fetching some more\n",
      "Last Tweet @ 2020-12-18 06:45:52  - fetching some more\n",
      "Last Tweet @ 2020-12-18 06:45:52  - fetching some more\n",
      "Last Tweet @ 2020-12-18 06:45:52  - fetching some more\n",
      "Last Tweet @ 2020-12-18 06:45:52  - fetching some more\n",
      "Last Tweet @ 2020-12-18 06:45:52  - fetching some more\n",
      "Last Tweet @ 2020-12-18 06:45:52  - fetching some more\n",
      "Last Tweet @ 2020-12-18 06:45:52  - fetching some more\n",
      "Last Tweet @ 2020-12-18 06:45:52  - fetching some more\n",
      "Last Tweet @ 2020-12-18 06:45:52  - fetching some more\n",
      "Last Tweet @ 2020-12-18 06:45:52  - fetching some more\n",
      "Last Tweet @ 2020-12-18 06:45:52  - fetching some more\n",
      "Last Tweet @ 2020-12-18 06:46:15  - fetching some more\n",
      "Last Tweet @ 2020-12-18 06:46:15  - fetching some more\n",
      "Last Tweet @ 2020-12-18 06:46:15  - fetching some more\n",
      "Last Tweet @ 2020-12-18 06:46:15  - fetching some more\n",
      "Last Tweet @ 2020-12-18 06:46:15  - fetching some more\n",
      "Last Tweet @ 2020-12-18 06:46:15  - fetching some more\n",
      "Last Tweet @ 2020-12-18 06:46:15  - fetching some more\n",
      "Last Tweet @ 2020-12-18 06:46:15  - fetching some more\n",
      "Last Tweet @ 2020-12-18 06:46:15  - fetching some more\n",
      "Last Tweet @ 2020-12-18 06:46:15  - fetching some more\n",
      "Last Tweet @ 2020-12-18 06:46:15  - fetching some more\n",
      "Last Tweet @ 2020-12-18 06:46:15  - fetching some more\n",
      "Last Tweet @ 2020-12-18 06:46:15  - fetching some more\n",
      "Last Tweet @ 2020-12-18 06:46:15  - fetching some more\n",
      "Last Tweet @ 2020-12-18 06:46:15  - fetching some more\n",
      "Last Tweet @ 2020-12-18 06:46:15  - fetching some more\n",
      "Last Tweet @ 2020-12-18 06:46:15  - fetching some more\n",
      "Last Tweet @ 2020-12-18 06:46:15  - fetching some more\n",
      "Last Tweet @ 2020-12-18 06:46:15  - fetching some more\n",
      "Last Tweet @ 2020-12-18 06:46:15  - fetching some more\n",
      "Last Tweet @ 2020-12-18 06:46:15  - fetching some more\n",
      "Last Tweet @ 2020-12-18 06:46:15  - fetching some more\n",
      "Last Tweet @ 2020-12-18 06:46:15  - fetching some more\n",
      "Last Tweet @ 2020-12-18 06:46:30  - fetching some more\n",
      "Last Tweet @ 2020-12-18 06:46:30  - fetching some more\n",
      "Last Tweet @ 2020-12-18 06:46:30  - fetching some more\n",
      "Last Tweet @ 2020-12-18 06:46:30  - fetching some more\n",
      "Last Tweet @ 2020-12-18 06:46:30  - fetching some more\n",
      "Last Tweet @ 2020-12-18 06:46:30  - fetching some more\n",
      "Last Tweet @ 2020-12-18 06:46:30  - fetching some more\n",
      "Last Tweet @ 2020-12-18 06:46:30  - fetching some more\n",
      "Last Tweet @ 2020-12-18 06:46:30  - fetching some more\n",
      "Last Tweet @ 2020-12-18 06:46:30  - fetching some more\n",
      "Last Tweet @ 2020-12-18 06:46:30  - fetching some more\n",
      "Last Tweet @ 2020-12-18 06:46:30  - fetching some more\n",
      "Last Tweet @ 2020-12-18 06:46:30  - fetching some more\n",
      "Last Tweet @ 2020-12-18 06:46:30  - fetching some more\n",
      "Last Tweet @ 2020-12-18 06:46:30  - fetching some more\n",
      "Last Tweet @ 2020-12-18 06:46:30  - fetching some more\n",
      "Last Tweet @ 2020-12-18 06:46:30  - fetching some more\n",
      "Last Tweet @ 2020-12-18 06:46:30  - fetching some more\n",
      "Last Tweet @ 2020-12-18 06:46:30  - fetching some more\n",
      "Last Tweet @ 2020-12-18 06:46:30  - fetching some more\n",
      "Last Tweet @ 2020-12-18 06:46:41  - fetching some more\n",
      "Last Tweet @ 2020-12-18 06:46:41  - fetching some more\n",
      "Last Tweet @ 2020-12-18 06:46:41  - fetching some more\n",
      "Last Tweet @ 2020-12-18 06:46:41  - fetching some more\n",
      "Last Tweet @ 2020-12-18 06:46:41  - fetching some more\n",
      "Last Tweet @ 2020-12-18 06:46:41  - fetching some more\n",
      "Last Tweet @ 2020-12-18 06:46:41  - fetching some more\n",
      "Last Tweet @ 2020-12-18 06:46:41  - fetching some more\n",
      "Last Tweet @ 2020-12-18 06:46:41  - fetching some more\n",
      "Last Tweet @ 2020-12-18 06:46:41  - fetching some more\n",
      "Last Tweet @ 2020-12-18 06:46:41  - fetching some more\n",
      "Last Tweet @ 2020-12-18 06:46:41  - fetching some more\n",
      "Last Tweet @ 2020-12-18 06:46:41  - fetching some more\n",
      "Last Tweet @ 2020-12-18 06:46:41  - fetching some more\n",
      "Last Tweet @ 2020-12-18 06:46:52  - fetching some more\n",
      "Last Tweet @ 2020-12-18 06:46:52  - fetching some more\n",
      "Last Tweet @ 2020-12-18 06:46:52  - fetching some more\n",
      "Last Tweet @ 2020-12-18 06:46:52  - fetching some more\n",
      "Last Tweet @ 2020-12-18 06:46:52  - fetching some more\n",
      "Last Tweet @ 2020-12-18 06:46:52  - fetching some more\n",
      "Last Tweet @ 2020-12-18 06:46:52  - fetching some more\n",
      "Last Tweet @ 2020-12-18 06:46:52  - fetching some more\n",
      "Last Tweet @ 2020-12-18 06:46:52  - fetching some more\n",
      "Last Tweet @ 2020-12-18 06:46:52  - fetching some more\n",
      "Last Tweet @ 2020-12-18 06:46:52  - fetching some more\n",
      "Last Tweet @ 2020-12-18 06:46:52  - fetching some more\n",
      "Last Tweet @ 2020-12-18 06:46:52  - fetching some more\n",
      "Last Tweet @ 2020-12-18 06:46:52  - fetching some more\n",
      "Last Tweet @ 2020-12-18 06:46:52  - fetching some more\n",
      "Last Tweet @ 2020-12-18 06:46:52  - fetching some more\n",
      "Last Tweet @ 2020-12-18 06:46:52  - fetching some more\n",
      "Last Tweet @ 2020-12-18 06:46:52  - fetching some more\n",
      "Last Tweet @ 2020-12-18 06:46:52  - fetching some more\n",
      "Last Tweet @ 2020-12-18 06:46:52  - fetching some more\n",
      "Last Tweet @ 2020-12-18 06:46:52  - fetching some more\n",
      "Last Tweet @ 2020-12-18 06:46:52  - fetching some more\n",
      "Last Tweet @ 2020-12-18 06:46:52  - fetching some more\n",
      "Last Tweet @ 2020-12-18 06:47:05  - fetching some more\n",
      "Last Tweet @ 2020-12-18 06:47:05  - fetching some more\n",
      "Last Tweet @ 2020-12-18 06:47:05  - fetching some more\n",
      "Last Tweet @ 2020-12-18 06:47:05  - fetching some more\n",
      "Last Tweet @ 2020-12-18 06:47:05  - fetching some more\n",
      "Last Tweet @ 2020-12-18 06:47:05  - fetching some more\n",
      "Last Tweet @ 2020-12-18 06:47:36  - fetching some more\n",
      "Last Tweet @ 2020-12-18 06:47:36  - fetching some more\n",
      "Last Tweet @ 2020-12-18 06:47:36  - fetching some more\n",
      "Last Tweet @ 2020-12-18 06:47:36  - fetching some more\n",
      "Last Tweet @ 2020-12-18 06:47:36  - fetching some more\n",
      "Last Tweet @ 2020-12-18 06:47:36  - fetching some more\n",
      "Last Tweet @ 2020-12-18 06:47:36  - fetching some more\n",
      "Last Tweet @ 2020-12-18 06:47:36  - fetching some more\n",
      "Last Tweet @ 2020-12-18 06:47:36  - fetching some more\n",
      "Last Tweet @ 2020-12-18 06:47:36  - fetching some more\n",
      "Last Tweet @ 2020-12-18 06:47:36  - fetching some more\n",
      "Last Tweet @ 2020-12-18 06:47:36  - fetching some more\n",
      "Last Tweet @ 2020-12-18 06:47:36  - fetching some more\n",
      "Last Tweet @ 2020-12-18 06:47:36  - fetching some more\n",
      "Last Tweet @ 2020-12-18 06:47:36  - fetching some more\n",
      "Last Tweet @ 2020-12-18 06:47:59  - fetching some more\n"
     ]
    },
    {
     "name": "stdout",
     "output_type": "stream",
     "text": [
      "Last Tweet @ 2020-12-18 06:47:59  - fetching some more\n"
     ]
    },
    {
     "ename": "RateLimitError",
     "evalue": "[{'message': 'Rate limit exceeded', 'code': 88}]",
     "output_type": "error",
     "traceback": [
      "\u001b[1;31m---------------------------------------------------------------------------\u001b[0m",
      "\u001b[1;31mRateLimitError\u001b[0m                            Traceback (most recent call last)",
      "\u001b[1;32m<ipython-input-7-c5d31ff2951d>\u001b[0m in \u001b[0;36m<module>\u001b[1;34m\u001b[0m\n\u001b[0;32m      6\u001b[0m \u001b[1;32mwhile\u001b[0m \u001b[1;33m(\u001b[0m\u001b[0mtmpTweets\u001b[0m\u001b[1;33m[\u001b[0m\u001b[1;33m-\u001b[0m\u001b[1;36m1\u001b[0m\u001b[1;33m]\u001b[0m\u001b[1;33m.\u001b[0m\u001b[0mcreated_at\u001b[0m \u001b[1;33m>\u001b[0m \u001b[0mstartDate\u001b[0m\u001b[1;33m)\u001b[0m\u001b[1;33m:\u001b[0m\u001b[1;33m\u001b[0m\u001b[1;33m\u001b[0m\u001b[0m\n\u001b[0;32m      7\u001b[0m     \u001b[0mprint\u001b[0m\u001b[1;33m(\u001b[0m\u001b[1;34m\"Last Tweet @\"\u001b[0m\u001b[1;33m,\u001b[0m \u001b[0mtmpTweets\u001b[0m\u001b[1;33m[\u001b[0m\u001b[1;33m-\u001b[0m\u001b[1;36m1\u001b[0m\u001b[1;33m]\u001b[0m\u001b[1;33m.\u001b[0m\u001b[0mcreated_at\u001b[0m\u001b[1;33m,\u001b[0m \u001b[1;34m\" - fetching some more\"\u001b[0m\u001b[1;33m)\u001b[0m\u001b[1;33m\u001b[0m\u001b[1;33m\u001b[0m\u001b[0m\n\u001b[1;32m----> 8\u001b[1;33m     \u001b[0mtmpTweets\u001b[0m \u001b[1;33m=\u001b[0m \u001b[0mapi\u001b[0m\u001b[1;33m.\u001b[0m\u001b[0msearch\u001b[0m\u001b[1;33m(\u001b[0m\u001b[0mq\u001b[0m\u001b[1;33m=\u001b[0m\u001b[0mquery\u001b[0m\u001b[1;33m)\u001b[0m\u001b[1;33m\u001b[0m\u001b[1;33m\u001b[0m\u001b[0m\n\u001b[0m\u001b[0;32m      9\u001b[0m     \u001b[1;32mfor\u001b[0m \u001b[0mtweet\u001b[0m \u001b[1;32min\u001b[0m \u001b[0mtmpTweets\u001b[0m\u001b[1;33m:\u001b[0m\u001b[1;33m\u001b[0m\u001b[1;33m\u001b[0m\u001b[0m\n\u001b[0;32m     10\u001b[0m         \u001b[1;32mif\u001b[0m \u001b[0mtweet\u001b[0m\u001b[1;33m.\u001b[0m\u001b[0mcreated_at\u001b[0m \u001b[1;33m<\u001b[0m \u001b[0mendDate\u001b[0m \u001b[1;32mand\u001b[0m \u001b[0mtweet\u001b[0m\u001b[1;33m.\u001b[0m\u001b[0mcreated_at\u001b[0m \u001b[1;33m>\u001b[0m \u001b[0mstartDate\u001b[0m\u001b[1;33m:\u001b[0m\u001b[1;33m\u001b[0m\u001b[1;33m\u001b[0m\u001b[0m\n",
      "\u001b[1;32m~\\anaconda3\\lib\\site-packages\\tweepy\\binder.py\u001b[0m in \u001b[0;36m_call\u001b[1;34m(*args, **kwargs)\u001b[0m\n\u001b[0;32m    250\u001b[0m                 \u001b[1;32mreturn\u001b[0m \u001b[0mmethod\u001b[0m\u001b[1;33m\u001b[0m\u001b[1;33m\u001b[0m\u001b[0m\n\u001b[0;32m    251\u001b[0m             \u001b[1;32melse\u001b[0m\u001b[1;33m:\u001b[0m\u001b[1;33m\u001b[0m\u001b[1;33m\u001b[0m\u001b[0m\n\u001b[1;32m--> 252\u001b[1;33m                 \u001b[1;32mreturn\u001b[0m \u001b[0mmethod\u001b[0m\u001b[1;33m.\u001b[0m\u001b[0mexecute\u001b[0m\u001b[1;33m(\u001b[0m\u001b[1;33m)\u001b[0m\u001b[1;33m\u001b[0m\u001b[1;33m\u001b[0m\u001b[0m\n\u001b[0m\u001b[0;32m    253\u001b[0m         \u001b[1;32mfinally\u001b[0m\u001b[1;33m:\u001b[0m\u001b[1;33m\u001b[0m\u001b[1;33m\u001b[0m\u001b[0m\n\u001b[0;32m    254\u001b[0m             \u001b[0mmethod\u001b[0m\u001b[1;33m.\u001b[0m\u001b[0msession\u001b[0m\u001b[1;33m.\u001b[0m\u001b[0mclose\u001b[0m\u001b[1;33m(\u001b[0m\u001b[1;33m)\u001b[0m\u001b[1;33m\u001b[0m\u001b[1;33m\u001b[0m\u001b[0m\n",
      "\u001b[1;32m~\\anaconda3\\lib\\site-packages\\tweepy\\binder.py\u001b[0m in \u001b[0;36mexecute\u001b[1;34m(self)\u001b[0m\n\u001b[0;32m    230\u001b[0m \u001b[1;33m\u001b[0m\u001b[0m\n\u001b[0;32m    231\u001b[0m                 \u001b[1;32mif\u001b[0m \u001b[0mis_rate_limit_error_message\u001b[0m\u001b[1;33m(\u001b[0m\u001b[0merror_msg\u001b[0m\u001b[1;33m)\u001b[0m\u001b[1;33m:\u001b[0m\u001b[1;33m\u001b[0m\u001b[1;33m\u001b[0m\u001b[0m\n\u001b[1;32m--> 232\u001b[1;33m                     \u001b[1;32mraise\u001b[0m \u001b[0mRateLimitError\u001b[0m\u001b[1;33m(\u001b[0m\u001b[0merror_msg\u001b[0m\u001b[1;33m,\u001b[0m \u001b[0mresp\u001b[0m\u001b[1;33m)\u001b[0m\u001b[1;33m\u001b[0m\u001b[1;33m\u001b[0m\u001b[0m\n\u001b[0m\u001b[0;32m    233\u001b[0m                 \u001b[1;32melse\u001b[0m\u001b[1;33m:\u001b[0m\u001b[1;33m\u001b[0m\u001b[1;33m\u001b[0m\u001b[0m\n\u001b[0;32m    234\u001b[0m                     \u001b[1;32mraise\u001b[0m \u001b[0mTweepError\u001b[0m\u001b[1;33m(\u001b[0m\u001b[0merror_msg\u001b[0m\u001b[1;33m,\u001b[0m \u001b[0mresp\u001b[0m\u001b[1;33m,\u001b[0m \u001b[0mapi_code\u001b[0m\u001b[1;33m=\u001b[0m\u001b[0mapi_error_code\u001b[0m\u001b[1;33m)\u001b[0m\u001b[1;33m\u001b[0m\u001b[1;33m\u001b[0m\u001b[0m\n",
      "\u001b[1;31mRateLimitError\u001b[0m: [{'message': 'Rate limit exceeded', 'code': 88}]"
     ]
    }
   ],
   "source": [
    "for tweet in tmpTweets:\n",
    "    #get tweets between start and end date\n",
    "    if tweet.created_at < endDate and tweet.created_at > startDate:\n",
    "        tweets.append(tweet)\n",
    "\n",
    "while (tmpTweets[-1].created_at > startDate):\n",
    "    print(\"Last Tweet @\", tmpTweets[-1].created_at, \" - fetching some more\")\n",
    "    tmpTweets = api.search(q=query)\n",
    "    for tweet in tmpTweets:\n",
    "        if tweet.created_at < endDate and tweet.created_at > startDate:\n",
    "            tweets.append(tweet)"
   ]
  },
  {
   "cell_type": "code",
   "execution_count": 8,
   "metadata": {},
   "outputs": [
    {
     "name": "stdout",
     "output_type": "stream",
     "text": [
      "Excel file ready\n"
     ]
    }
   ],
   "source": [
    "workbook = xlsxwriter.Workbook(query + \".xlsx\")\n",
    "worksheet = workbook.add_worksheet()\n",
    "row = 0\n",
    "for tweet in tweets:\n",
    "    worksheet.write_string(row, 0, str(tweet.id))\n",
    "    worksheet.write_string(row, 1, str(tweet.created_at))\n",
    "    worksheet.write(row, 2, tweet.text)\n",
    "    worksheet.write_string(row, 3, str(tweet.in_reply_to_status_id))\n",
    "    row += 1\n",
    "\n",
    "workbook.close()\n",
    "print(\"Excel file ready\")"
   ]
  },
  {
   "cell_type": "code",
   "execution_count": null,
   "metadata": {},
   "outputs": [],
   "source": []
  }
 ],
 "metadata": {
  "kernelspec": {
   "display_name": "Python 3",
   "language": "python",
   "name": "python3"
  },
  "language_info": {
   "codemirror_mode": {
    "name": "ipython",
    "version": 3
   },
   "file_extension": ".py",
   "mimetype": "text/x-python",
   "name": "python",
   "nbconvert_exporter": "python",
   "pygments_lexer": "ipython3",
   "version": "3.8.3"
  }
 },
 "nbformat": 4,
 "nbformat_minor": 4
}
